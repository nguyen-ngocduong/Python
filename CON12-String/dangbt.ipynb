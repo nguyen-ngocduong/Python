{
 "cells": [
  {
   "cell_type": "markdown",
   "metadata": {},
   "source": [
    "### Dạng 1: Tách từ => đếm tần suất, sắp xếp"
   ]
  },
  {
   "cell_type": "code",
   "execution_count": 1,
   "metadata": {},
   "outputs": [
    {
     "name": "stdout",
     "output_type": "stream",
     "text": [
      "['Nguyen', 'Duc', 'Dat', 'hoc', 'Python']\n",
      "{'Dat', 'Nguyen', 'Duc', 'Python', 'hoc'}\n",
      "5\n"
     ]
    }
   ],
   "source": [
    "if __name__ == '__main__':\n",
    "    s = \"Nguyen Duc Dat hoc Python\"\n",
    "    a = s.split()\n",
    "    print(a)\n",
    "    b = set(a)\n",
    "    print(b)\n",
    "    print(len(b))"
   ]
  },
  {
   "cell_type": "code",
   "execution_count": 3,
   "metadata": {},
   "outputs": [
    {
     "name": "stdout",
     "output_type": "stream",
     "text": [
      "['Nguyen', 'Duc', 'Dat', 'hoc', 'Python']\n"
     ]
    }
   ],
   "source": [
    "if __name__ == '__main__':\n",
    "    s = \"Nguyen.Duc,Dat+hoc-Python\"\n",
    "    kytu = '.,+-'\n",
    "    for x in kytu:\n",
    "        s = s.replace(x, ' ')\n",
    "    print(s.split())"
   ]
  },
  {
   "cell_type": "markdown",
   "metadata": {},
   "source": [
    "### Dạng 2: Bài toán số nguyên lớn"
   ]
  },
  {
   "cell_type": "code",
   "execution_count": 8,
   "metadata": {},
   "outputs": [
    {
     "name": "stdout",
     "output_type": "stream",
     "text": [
      "21\n"
     ]
    }
   ],
   "source": [
    "if __name__ == '__main__':\n",
    "    s = input()\n",
    "    tong = 0\n",
    "    for x in s:\n",
    "        tong += int(x)\n",
    "    print(tong)"
   ]
  }
 ],
 "metadata": {
  "kernelspec": {
   "display_name": "Duong",
   "language": "python",
   "name": "python3"
  },
  "language_info": {
   "codemirror_mode": {
    "name": "ipython",
    "version": 3
   },
   "file_extension": ".py",
   "mimetype": "text/x-python",
   "name": "python",
   "nbconvert_exporter": "python",
   "pygments_lexer": "ipython3",
   "version": "3.13.0"
  }
 },
 "nbformat": 4,
 "nbformat_minor": 2
}
