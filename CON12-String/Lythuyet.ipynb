{
 "cells": [
  {
   "cell_type": "markdown",
   "metadata": {},
   "source": [
    "### 1.Lý thuyết\n",
    "- hàm chr() và ord() => chuyển 1 ký tự thành mã ASCII"
   ]
  },
  {
   "cell_type": "code",
   "execution_count": 1,
   "metadata": {},
   "outputs": [
    {
     "name": "stdout",
     "output_type": "stream",
     "text": [
      "hoc python\n",
      "Cuoc song\n",
      "tuoi dep\n",
      "<class 'str'> <class 'str'> <class 'str'> "
     ]
    }
   ],
   "source": [
    "#Tạo string\n",
    "s = 'hoc'\n",
    "t = 'python'\n",
    "u = \"\"\"Cuoc song\n",
    "tuoi dep\"\"\"\n",
    "print(s,t)\n",
    "print(u)\n",
    "a,b,c = str(100),str(100.20),str(10+28j)\n",
    "print(type(a), type(b), type(c), end = ' ')"
   ]
  },
  {
   "cell_type": "code",
   "execution_count": 9,
   "metadata": {},
   "outputs": [
    {
     "name": "stdout",
     "output_type": "stream",
     "text": [
      "g N N g ['u', 'y', 'e', 'n', 'N', 'g', 'o', 'c', 'D', 'u', 'o', 'n', 'g']\n",
      "N g u y e n N g o c D u o n g \n",
      "N g u y e n N g o c D u o n g \n",
      "g n o u D c o g N n e y u g N \n",
      "NguyenNgocDuong hoc Python\n"
     ]
    }
   ],
   "source": [
    "#Truy cập vị trí bằng chỉ số\n",
    "s = 'NguyenNgocDuong'\n",
    "print(s[-1],s[0],end = ' ')\n",
    "#unpacking\n",
    "x,y, *z = s\n",
    "print(x,y,z)\n",
    "for i in range(len(s)):\n",
    "    print(s[i], end = ' ')\n",
    "print()\n",
    "for x in s:\n",
    "    print(x, end = ' ')\n",
    "print()\n",
    "for x in s[::-1]:\n",
    "    print(x, end = ' ')\n",
    "print()\n",
    "# Nối xâu: \n",
    "t = \"hoc Python\"\n",
    "tmp = s + \" \" + t\n",
    "print(tmp)"
   ]
  },
  {
   "cell_type": "code",
   "execution_count": 13,
   "metadata": {},
   "outputs": [
    {
     "name": "stdout",
     "output_type": "stream",
     "text": [
      "NguyenNgocDuong hoc Python\n",
      "NguyenNgocDuong hoc C++\n"
     ]
    }
   ],
   "source": [
    "#Hàm replace() sử dụng để thay thế 1 xâu cũ bằng 1 xâu mới\n",
    "st = tmp.replace('hoc Python', 'hoc C++')\n",
    "print(tmp)\n",
    "print(st)"
   ]
  },
  {
   "cell_type": "code",
   "execution_count": 15,
   "metadata": {},
   "outputs": [
    {
     "name": "stdout",
     "output_type": "stream",
     "text": [
      "['28tech', 'python', 'C++']\n",
      "['28tech', ' python', ' C++']\n",
      "28tech+python+C++\n"
     ]
    }
   ],
   "source": [
    "#Hàm split() và join()\n",
    "#split(): tách các từ trong xâu, nếu ko có tham số => tách bằng dấu cách\n",
    "#join(): kết hợp các từ rời rạc thành 1 xâu được phân cách bới kí tự cho trước\n",
    "s = \"28tech python C++\"\n",
    "a = s.split()\n",
    "t = \"28tech, python, C++\"\n",
    "b = t.split(',')\n",
    "print(a, end = '\\n')\n",
    "print(b)\n",
    "#Hàm join()\n",
    "tmp = ['28tech', 'python', 'C++']\n",
    "t = '+'.join(tmp)\n",
    "print(t)"
   ]
  },
  {
   "cell_type": "markdown",
   "metadata": {},
   "source": [
    "**Các hàm case conversion**\n",
    "- upper(): chuyển sang in hoa \n",
    "- lower(): chuyển sang in thường\n",
    "- capitalize(): viết hoa chữ cái đầu tiên của xâu\n",
    "- swapcase(): chuyển chữ hoa thành chữ thường và ngược lại\n",
    "- title(): Viết hoa chữ cái đầu tiên của từng từ"
   ]
  }
 ],
 "metadata": {
  "kernelspec": {
   "display_name": "Duong",
   "language": "python",
   "name": "python3"
  },
  "language_info": {
   "codemirror_mode": {
    "name": "ipython",
    "version": 3
   },
   "file_extension": ".py",
   "mimetype": "text/x-python",
   "name": "python",
   "nbconvert_exporter": "python",
   "pygments_lexer": "ipython3",
   "version": "3.13.0"
  }
 },
 "nbformat": 4,
 "nbformat_minor": 2
}
