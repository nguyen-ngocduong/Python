{
 "cells": [
  {
   "cell_type": "markdown",
   "metadata": {},
   "source": [
    "# 1. Lý thuyết mảng 2 chiều"
   ]
  },
  {
   "cell_type": "code",
   "execution_count": 2,
   "metadata": {},
   "outputs": [
    {
     "name": "stdout",
     "output_type": "stream",
     "text": [
      "[1, 2, 3, 4]\n",
      "[5, 6, 7, 8]\n",
      "[9, 10, 11, 12]\n"
     ]
    }
   ],
   "source": [
    "a = [[1,2,3,4], [5,6,7,8], [9,10,11,12]]\n",
    "for x in a:\n",
    "    print(x)"
   ]
  },
  {
   "cell_type": "code",
   "execution_count": 3,
   "metadata": {},
   "outputs": [
    {
     "name": "stdout",
     "output_type": "stream",
     "text": [
      "[[1, 2, 3], [4, 5, 6]]\n"
     ]
    }
   ],
   "source": [
    "# tạo ra mảng 2 chiều\n",
    "n,m = 2,3\n",
    "a = []\n",
    "for i in range(n):\n",
    "    b = list(map(int, input().split()))\n",
    "    a.append(b)\n",
    "print(a)"
   ]
  },
  {
   "cell_type": "code",
   "execution_count": 4,
   "metadata": {},
   "outputs": [
    {
     "name": "stdout",
     "output_type": "stream",
     "text": [
      "1 2 3 \n",
      "4 5 6 \n"
     ]
    }
   ],
   "source": [
    "n,m = map(int, input().split())\n",
    "a = []\n",
    "for i in range(n):\n",
    "    b = list(map(int, input().split()))\n",
    "    a.append(b)\n",
    "for i in range(n):\n",
    "    #a[ơi] => dòng thứ i\n",
    "    for j in range(m):\n",
    "        print(a[i][j], end = ' ')\n",
    "    print()"
   ]
  },
  {
   "cell_type": "code",
   "execution_count": 7,
   "metadata": {},
   "outputs": [
    {
     "name": "stdout",
     "output_type": "stream",
     "text": [
      "1 6\n"
     ]
    }
   ],
   "source": [
    "#Truy cập mảng 2 chiều: cần sử dụng chỉ số hàng, chỉ số cột\n",
    "#Tìm phần tử lớn nhất, nhỏ nhất trong mảng 2 chiều\n",
    "n,m = map(int, input().split())\n",
    "a = []\n",
    "for i in range(n):\n",
    "    b = list(map(int, input().split()))\n",
    "    a.append(b)\n",
    "min_val, max_val = 10**18, -10**18\n",
    "for i in range(n):\n",
    "    for j in range(m):\n",
    "        min_val = min(min_val, a[i][j])\n",
    "        max_val = max(max_val, a[i][j])\n",
    "print(min_val, max_val)"
   ]
  },
  {
   "cell_type": "code",
   "execution_count": 15,
   "metadata": {},
   "outputs": [
    {
     "name": "stdout",
     "output_type": "stream",
     "text": [
      "[1, 2, 3, 4, 5, 6, 7, 8, 9]\n",
      "[6, 15, 24]\n",
      "5\n",
      "7\n",
      "9\n"
     ]
    }
   ],
   "source": [
    "#Flatten mảng 2 chiều thành mảng 1 chiều\n",
    "a = [[1,2,3], [4,5,6], [7,8,9]]\n",
    "b = [x for b in a for x in b]\n",
    "print(b)\n",
    "#tính tổng từng hàng của ma trận\n",
    "a = [[1,2,3], [4,5,6], [7,8,9]]\n",
    "sum_row = [sum(row) for row in a]\n",
    "print(sum_row)\n",
    "#tính tổng từng cột\n",
    "n,m = map(int, input().split())\n",
    "c = []\n",
    "for i in range(n):\n",
    "    x = list(map(int, input().split()))\n",
    "    c.append(x)\n",
    "for j in range(m):\n",
    "    tong = 0\n",
    "    for i in range(n):\n",
    "        tong += c[i][j]\n",
    "    print(tong)"
   ]
  },
  {
   "cell_type": "markdown",
   "metadata": {},
   "source": [
    "# 2.Các định nghĩa và phép toán trên matrix"
   ]
  },
  {
   "cell_type": "code",
   "execution_count": 17,
   "metadata": {},
   "outputs": [
    {
     "name": "stdout",
     "output_type": "stream",
     "text": [
      "[[1, 4, 7], [2, 5, 8], [3, 6, 9]]\n"
     ]
    }
   ],
   "source": [
    "#ma trận vuông, matranaj chuyển vị, đường chéo chinhs, tam giác trên, tam giác dưới\n",
    "# Tạo ma trận chuyển vị\n",
    "a = [[1,2,3], [4,5,6], [7,8,9]]\n",
    "a_t = [[row[i] for row in a] for i in range(len(a[0]))]\n",
    "print(a_t)"
   ]
  },
  {
   "cell_type": "code",
   "execution_count": 21,
   "metadata": {},
   "outputs": [
    {
     "name": "stdout",
     "output_type": "stream",
     "text": [
      "************* Tổng ************\n",
      "[[1, 3, 5], [5, 6, 7], [7, 9, 9]]\n",
      "************* Hiệu ************\n",
      "[[1, 1, 1], [3, 4, 5], [7, 7, 9]]\n"
     ]
    }
   ],
   "source": [
    "#Cộng trừ 2 ma trận\n",
    "n,m = 3,3\n",
    "a = [[1,2,3], [4,5,6], [7,8,9]]\n",
    "b = [[0,1,2], [1,1,1], [0,1,0]]\n",
    "c = [[0 for _ in range(m)] for _ in range(n)]\n",
    "d = [[0 for _ in range(m)] for _ in range(n)]\n",
    "for i in range(n):\n",
    "    for j in range(m):\n",
    "        c[i][j] = a[i][j] + b[i][j]\n",
    "        d[i][j] = a[i][j] - b[i][j]\n",
    "print('************* Tổng ************')\n",
    "print(c)\n",
    "print('************* Hiệu ************')\n",
    "print(d)"
   ]
  },
  {
   "cell_type": "code",
   "execution_count": 22,
   "metadata": {},
   "outputs": [
    {
     "name": "stdout",
     "output_type": "stream",
     "text": [
      "[[0, 0, 0], [0, 0, 0], [0, 0, 0], [0, 0, 0]]\n"
     ]
    }
   ],
   "source": [
    "#Phép nhân 2 ma trận\n",
    "n,m,p = map(int, input().split())\n",
    "a,b = [0]*n, [0]*m\n",
    "for i in range(n):\n",
    "    a[i] = list(map(int, input().split()))\n",
    "for i in range(m):\n",
    "    b[i] = list(map(int, input().split()))\n",
    "c = [[0 for _ in range(n)] for _ in range(p)]\n",
    "print(c)\n",
    "for i in range(n):\n",
    "    for j in range(p):\n",
    "        for k in range(m):\n",
    "            c[i][j] = a[i][k] * b[k][j]\n",
    "print(c)"
   ]
  }
 ],
 "metadata": {
  "kernelspec": {
   "display_name": "Duong",
   "language": "python",
   "name": "python3"
  },
  "language_info": {
   "codemirror_mode": {
    "name": "ipython",
    "version": 3
   },
   "file_extension": ".py",
   "mimetype": "text/x-python",
   "name": "python",
   "nbconvert_exporter": "python",
   "pygments_lexer": "ipython3",
   "version": "3.13.0"
  }
 },
 "nbformat": 4,
 "nbformat_minor": 2
}
