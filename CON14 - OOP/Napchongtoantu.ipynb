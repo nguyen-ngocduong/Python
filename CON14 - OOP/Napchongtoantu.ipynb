{
 "cells": [
  {
   "cell_type": "markdown",
   "metadata": {},
   "source": [
    "### 2. Một số hàm đặc biệt\n",
    "- Hàm __add__ : được sử dụng khi cần nạp chồng toán tử + cho 2 đối tượng cùng 1 class\n",
    "- Hàm __sub__ : được sử dụng khi cần nạp chồng toán tử - cho 2 đối tượng cùng 1 class\n",
    "- Hàm __mul__ : được sử dụng khi cần nạp chồng toán tử * cho 2 đối tượng cùng 1 class\n",
    "- Hàm __truediv__: được sử dụng khi cần nạp chồng toán tử / cho 2 đối tượng cùng 1 class\n",
    "- **Các hàm so sánh**\n",
    "\n",
    "|          Toán tử         |   Hàm  |\n",
    "|:------------------------:|:------:|\n",
    "|        < less than       | __lt__ |\n",
    "|   <= less than or equal  | __le__ |\n",
    "|      > greater than      | __gt__ |\n",
    "| >= Greater than or equal | __ge__ |\n",
    "|         == equal         | __eq__ |\n",
    "|       != not equal       | __ne__ |"
   ]
  },
  {
   "cell_type": "code",
   "execution_count": 6,
   "metadata": {},
   "outputs": [
    {
     "name": "stdout",
     "output_type": "stream",
     "text": [
      "5 + 4j\n",
      "5 + 4j\n"
     ]
    }
   ],
   "source": [
    "# Hàm __add__\n",
    "class sophuc:\n",
    "    def __init__(self, thuc, ao):\n",
    "        self.thuc = thuc\n",
    "        self.ao = ao \n",
    "    def __add__(self, other): # => s sẽ thay đổi\n",
    "        self.thuc += other.thuc\n",
    "        self.ao += other.ao\n",
    "        return sophuc(self.thuc, self.ao)\n",
    "    def __str__(self):\n",
    "        return f'{self.thuc} + {self.ao}j'\n",
    "\n",
    "if __name__ == '__main__':\n",
    "    s = sophuc(2,3)\n",
    "    s1 = sophuc(3,1)\n",
    "    s2 = s + s1\n",
    "    print(s)\n",
    "    print(s2)"
   ]
  },
  {
   "cell_type": "code",
   "execution_count": 7,
   "metadata": {},
   "outputs": [
    {
     "name": "stdout",
     "output_type": "stream",
     "text": [
      "2 + 3j\n",
      "5 + 4j\n"
     ]
    }
   ],
   "source": [
    "# Hàm __add__\n",
    "class sophuc:\n",
    "    def __init__(self, thuc, ao):\n",
    "        self.thuc = thuc\n",
    "        self.ao = ao \n",
    "    def __add__(self, other): # => s ko sẽ thay đổi\n",
    "        tmp1 = self.thuc + other.thuc\n",
    "        tmp2 = self.ao + other.ao\n",
    "        return sophuc(tmp1, tmp2)\n",
    "    def __str__(self):\n",
    "        return f'{self.thuc} + {self.ao}j'\n",
    "\n",
    "if __name__ == '__main__':\n",
    "    s = sophuc(2,3)\n",
    "    s1 = sophuc(3,1)\n",
    "    s2 = s + s1\n",
    "    print(s)\n",
    "    print(s2)"
   ]
  },
  {
   "cell_type": "code",
   "execution_count": 9,
   "metadata": {},
   "outputs": [
    {
     "name": "stdout",
     "output_type": "stream",
     "text": [
      "-1 - 2j\n",
      "-1 - 2j\n"
     ]
    }
   ],
   "source": [
    "# Hàm __sub__\n",
    "class sophuc:\n",
    "    def __init__(self, thuc, ao):\n",
    "        self.thuc = thuc\n",
    "        self.ao = ao \n",
    "    def __sub__(self, other): # => s sẽ thay đổi\n",
    "        self.thuc -= other.thuc\n",
    "        self.ao -= other.ao\n",
    "        return sophuc(self.thuc, self.ao)\n",
    "    def __str__(self):\n",
    "        return f'{self.thuc} - {self.ao}j'\n",
    "\n",
    "if __name__ == '__main__':\n",
    "    s = sophuc(2,3)\n",
    "    s1 = sophuc(3,1)\n",
    "    s2 = s - s1\n",
    "    print(s)\n",
    "    print(s2)"
   ]
  },
  {
   "cell_type": "code",
   "execution_count": 10,
   "metadata": {},
   "outputs": [
    {
     "name": "stdout",
     "output_type": "stream",
     "text": [
      "6 + 3j\n",
      "6 + 3j\n"
     ]
    }
   ],
   "source": [
    "# Hàm __mul__\n",
    "class sophuc:\n",
    "    def __init__(self, thuc, ao):\n",
    "        self.thuc = thuc\n",
    "        self.ao = ao \n",
    "    def __mul__(self, other): # => s sẽ thay đổi\n",
    "        self.thuc *= other.thuc\n",
    "        self.ao *= other.ao\n",
    "        return sophuc(self.thuc, self.ao)\n",
    "    def __str__(self):\n",
    "        return f'{self.thuc} + {self.ao}j'\n",
    "\n",
    "if __name__ == '__main__':\n",
    "    s = sophuc(2,3)\n",
    "    s1 = sophuc(3,1)\n",
    "    s2 = s * s1\n",
    "    print(s)\n",
    "    print(s2)"
   ]
  },
  {
   "cell_type": "code",
   "execution_count": 11,
   "metadata": {},
   "outputs": [
    {
     "name": "stdout",
     "output_type": "stream",
     "text": [
      "0.6666666666666666 + 3.0j\n",
      "0.6666666666666666 + 3.0j\n"
     ]
    }
   ],
   "source": [
    "# Hàm __truediv__\n",
    "class sophuc:\n",
    "    def __init__(self, thuc, ao):\n",
    "        self.thuc = thuc\n",
    "        self.ao = ao \n",
    "    def __truediv__(self, other): # => s sẽ thay đổi\n",
    "        self.thuc /= other.thuc\n",
    "        self.ao /= other.ao\n",
    "        return sophuc(self.thuc, self.ao)\n",
    "    def __str__(self):\n",
    "        return f'{self.thuc} + {self.ao}j'\n",
    "\n",
    "if __name__ == '__main__':\n",
    "    s = sophuc(2,3)\n",
    "    s1 = sophuc(3,1)\n",
    "    s2 = s / s1\n",
    "    print(s)\n",
    "    print(s2)"
   ]
  },
  {
   "cell_type": "code",
   "execution_count": 13,
   "metadata": {},
   "outputs": [
    {
     "name": "stdout",
     "output_type": "stream",
     "text": [
      "6 + 3j\n",
      "6 + 3j\n",
      "True\n"
     ]
    }
   ],
   "source": [
    "#hàm __eq__\n",
    "# Hàm __mul__\n",
    "class sophuc:\n",
    "    def __init__(self, thuc, ao):\n",
    "        self.thuc = thuc\n",
    "        self.ao = ao \n",
    "    def __mul__(self, other): # => s sẽ thay đổi\n",
    "        self.thuc *= other.thuc\n",
    "        self.ao *= other.ao\n",
    "        return sophuc(self.thuc, self.ao)\n",
    "    def __eq__(self, other):\n",
    "        return self.thuc == other.thuc and self.ao == other.ao\n",
    "    def __str__(self):\n",
    "        return f'{self.thuc} + {self.ao}j'\n",
    "\n",
    "if __name__ == '__main__':\n",
    "    s = sophuc(2,3)\n",
    "    s1 = sophuc(3,1)\n",
    "    s2 = s * s1\n",
    "    print(s)\n",
    "    print(s2)\n",
    "    print(s == s2)"
   ]
  },
  {
   "cell_type": "markdown",
   "metadata": {},
   "source": [
    "### 3. Kế thừa\n",
    "- VD: Sinh viên có thuộc tính chung như tên, tuổi, mã sv, lớp, ....\n",
    "- Khái niệm: Kế thừa cung cấp khả năng sử dụng lại những thuộc tính từ các class cũ thay vì phải tạo 1 class mới\n",
    "- Cú pháp để 1 lớp cơ sở kế thừa 1 lớp dẫn xuất:\n",
    "    - base-class(lớp cơ sở) chứa thuộc tính chung \n",
    "    - derived class(lớp dẫn xuất) bổ sung các thuộc tính, phương thức của từng lớp dẫn xuất\n",
    "- Lớp cha (base class hoặc super class), lớp con(derived class hoặc sub class)  "
   ]
  },
  {
   "cell_type": "code",
   "execution_count": 14,
   "metadata": {},
   "outputs": [
    {
     "name": "stdout",
     "output_type": "stream",
     "text": [
      "Hàm Khởi của lớp con\n",
      "Nguoi xin chao\n"
     ]
    }
   ],
   "source": [
    "#Cú pháp kế thừa\n",
    "class Nguoi:\n",
    "    def __init__(self):\n",
    "        print(\"Hàm khởi tạo của lớp cha\")\n",
    "    def xin_chao(self):\n",
    "        print('Nguoi xin chao')\n",
    "class sinhvien(Nguoi):\n",
    "    def __init__(self):\n",
    "        print('Hàm Khởi của lớp con')\n",
    "class giaovien(Nguoi):\n",
    "    pass\n",
    "if __name__ == '__main__':\n",
    "    s = sinhvien()\n",
    "    s.xin_chao()"
   ]
  },
  {
   "cell_type": "code",
   "execution_count": 16,
   "metadata": {},
   "outputs": [
    {
     "name": "stdout",
     "output_type": "stream",
     "text": [
      "1\n",
      "2\n"
     ]
    }
   ],
   "source": [
    "#Ví dụ kế thừa\n",
    "class Person:\n",
    "    cnt = 0\n",
    "    def __init__(self):\n",
    "        self.cnt += 1\n",
    "    def get_cnt(self):\n",
    "        return self.cnt\n",
    "class student(Person):\n",
    "    def change(self):\n",
    "        self.cnt += 1\n",
    "if __name__ == '__main__':\n",
    "    s = student()\n",
    "    print(s.get_cnt())\n",
    "    s.change()\n",
    "    print(s.get_cnt())"
   ]
  },
  {
   "cell_type": "code",
   "execution_count": 17,
   "metadata": {},
   "outputs": [
    {
     "name": "stdout",
     "output_type": "stream",
     "text": [
      "Nguyen Duc Dat 08/02/2004 2.86\n"
     ]
    }
   ],
   "source": [
    "#Subclassing: có thể gọi hàm khởi tạo của lớp cha trong hàm khởi tạo của lớp con => khởi tạo thuộc tính của lớp con kế thừa từ lớp cha\n",
    "class Person:\n",
    "    def __init__(self, name, tuoi):\n",
    "        self.name = name\n",
    "        self.tuoi = tuoi\n",
    "class Student(Person):\n",
    "    def __init__(self, name, tuoi, gpa):\n",
    "        Person.__init__(self, name, tuoi) \n",
    "        self.gpa = gpa\n",
    "    def show(self):\n",
    "        print(f'{self.name} {self.tuoi} {self.gpa:.2f}')\n",
    "if __name__ == '__main__':\n",
    "    s = Student('Nguyen Duc Dat','08/02/2004',2.8567)\n",
    "    s.show()"
   ]
  },
  {
   "cell_type": "markdown",
   "metadata": {},
   "source": [
    "**5.Ghi đè hàm**\n",
    "- Khái niệm: khi lớp cha và lớp con có phương thức cùng tên\n",
    "- phương thức này sẽ được lớp con cài đặt chi tiết hơn và có thể gọi phương thức tương ứng để tránh dư thừa code"
   ]
  },
  {
   "cell_type": "code",
   "execution_count": 19,
   "metadata": {},
   "outputs": [
    {
     "name": "stdout",
     "output_type": "stream",
     "text": [
      "Bong 30/12/2003\n",
      "Luong Van Dan 12/11/1994 Nam\n"
     ]
    }
   ],
   "source": [
    "class Person:\n",
    "    def __init__(self, name, tuoi):\n",
    "        self.name = name\n",
    "        self.tuoi = tuoi\n",
    "    def show(self):\n",
    "        return f'{self.name} {self.tuoi}'\n",
    "class giangvien:\n",
    "    def __init__(self, name, tuoi, sex):\n",
    "        Person.__init__(self, name, tuoi)\n",
    "        self.sex = sex\n",
    "    def show(self):\n",
    "        return f'{Person.show(self)} {self.sex}'\n",
    "if __name__ == '__main__':\n",
    "    p = Person('Bong', '30/12/2003')\n",
    "    print(p.show())\n",
    "    gv = giangvien('Luong Van Dan', '12/11/1994', 'Nam')\n",
    "    print(gv.show())"
   ]
  },
  {
   "cell_type": "markdown",
   "metadata": {},
   "source": [
    "**Các Kiểu Kế Thừa**"
   ]
  },
  {
   "cell_type": "code",
   "execution_count": 21,
   "metadata": {},
   "outputs": [
    {
     "name": "stdout",
     "output_type": "stream",
     "text": [
      "6\n"
     ]
    }
   ],
   "source": [
    "#Đa kế thừa: Một lớp có thể kế thừa từ nhiều lớp khác nhau\n",
    "class A:\n",
    "    def __init__(self,a):\n",
    "        self.a = a\n",
    "class B:\n",
    "    def __init__(self,b):\n",
    "        self.b = b\n",
    "class C(A,B):\n",
    "    def __init__(self, a,b,c):\n",
    "        A.__init__(self, a)\n",
    "        B.__init__(self, b)\n",
    "        self.c = c\n",
    "    def show(self):\n",
    "        print(self.a + self.b + self.c)\n",
    "if __name__ == '__main__':\n",
    "    c = C(1,2,3)\n",
    "    c.show()"
   ]
  },
  {
   "cell_type": "code",
   "execution_count": 22,
   "metadata": {},
   "outputs": [
    {
     "name": "stdout",
     "output_type": "stream",
     "text": [
      "100 200\n"
     ]
    }
   ],
   "source": [
    "#Kế thừa nhiều mức: khi lớp con lại có lớp con khác kề thừa\n",
    "class A:\n",
    "    def __init__(self,a):\n",
    "        self.a = a\n",
    "class B(A):\n",
    "    def __init__(self,b):\n",
    "        self.b = b\n",
    "class C(B):\n",
    "    def __init__(self,a, b):\n",
    "        A.__init__(self, a)\n",
    "        B.__init__(self, b)\n",
    "    def show(self):\n",
    "        print(self.a, self.b)\n",
    "c = C(100, 200)\n",
    "c.show()"
   ]
  }
 ],
 "metadata": {
  "kernelspec": {
   "display_name": "Duong",
   "language": "python",
   "name": "python3"
  },
  "language_info": {
   "codemirror_mode": {
    "name": "ipython",
    "version": 3
   },
   "file_extension": ".py",
   "mimetype": "text/x-python",
   "name": "python",
   "nbconvert_exporter": "python",
   "pygments_lexer": "ipython3",
   "version": "3.13.0"
  }
 },
 "nbformat": 4,
 "nbformat_minor": 2
}
