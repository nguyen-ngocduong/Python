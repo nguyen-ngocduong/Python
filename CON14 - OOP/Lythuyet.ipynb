{
 "cells": [
  {
   "cell_type": "markdown",
   "metadata": {},
   "source": [
    "### 1.Khái niệm\n",
    "- Lập trình OOP tập trung xoay quanh dữ liệu và đối tượng thay vì tập trung vào thủ tục\n",
    "- class(lớp) : phác họa và mô phỏng thông tin chung\n",
    "- object(đối tượng) : đi vào chi tiết của lớp đó"
   ]
  },
  {
   "cell_type": "code",
   "execution_count": 1,
   "metadata": {},
   "outputs": [
    {
     "name": "stdout",
     "output_type": "stream",
     "text": [
      "<class '__main__.Person'>\n"
     ]
    }
   ],
   "source": [
    "# attribute thuộc tính\n",
    "# methods: phương thức => hành động mà lớp đó có thể thực hiện được\n",
    "class Person:\n",
    "    pass\n",
    "if __name__ == '__main__':\n",
    "    p = Person()\n",
    "    print(type(p))"
   ]
  },
  {
   "cell_type": "markdown",
   "metadata": {},
   "source": [
    "**Phương thức __init__ và tham số self**\n",
    "- __init()__: phương thức tự động được gọi mỗi khi bạn tạo 1 đối tượng của lớp => khởi tạo thông tin ban đầu cho đối tượng\n",
    "- self: đề cập đến đối tượng hiện tại. Nó được sử dụng để truy vấn hoặc thiết lập các thuộc tính của đối tượng cụ thể"
   ]
  },
  {
   "cell_type": "markdown",
   "metadata": {},
   "source": [
    "**Thuộc tính và phương thức của lớp**\n",
    "- Thuộc tính: \n",
    "    - mang tính riêng lẻ để phân biệt giữa 2 đối tượng khác nhau\n",
    "    - sử dụng '.' để truy cập vào thuộc tính\n",
    "    - Có 2 loại thuộc tính:\n",
    "        - Instance attribute: thuộc tính thuộc về đối tượng(khác nhau giữa các đối tượng)\n",
    "        - Class attribute: thuộc tính chung"
   ]
  },
  {
   "cell_type": "markdown",
   "metadata": {},
   "source": [
    "### 2. Hàm hủy __del__:\n",
    "- Xóa tham chiếu tới 1 object\n",
    "- không thực sự cần thiết"
   ]
  },
  {
   "cell_type": "code",
   "execution_count": 2,
   "metadata": {},
   "outputs": [
    {
     "name": "stdout",
     "output_type": "stream",
     "text": [
      "Duc Dat 13/02/2003\n",
      "Xóa !\n"
     ]
    }
   ],
   "source": [
    "class Person:\n",
    "    def __init__(self, name, birth):\n",
    "        self.name = name\n",
    "        self.birth = birth\n",
    "    def show(self):\n",
    "        print(self.name, self.birth)\n",
    "    def __del__(self):\n",
    "        print('Xóa !')\n",
    "if __name__ == '__main__':\n",
    "    s = Person('Duc Dat', '13/02/2003')\n",
    "    s.show()\n",
    "    del s"
   ]
  },
  {
   "cell_type": "code",
   "execution_count": 3,
   "metadata": {},
   "outputs": [
    {
     "name": "stdout",
     "output_type": "stream",
     "text": [
      "BMW Germany\n"
     ]
    }
   ],
   "source": [
    "#Hàm str : sử dụng khi bạn muốn in ra đối tượng của lớp nào đó\n",
    "class car:\n",
    "    def __init__(self, name, born):\n",
    "        self.name = name\n",
    "        self.born = born\n",
    "    def __str__(self):\n",
    "        return f'{self.name} {self.born}'\n",
    "if __name__ == '__main__':\n",
    "    s = car('BMW', 'Germany')\n",
    "    print(s)"
   ]
  },
  {
   "cell_type": "code",
   "execution_count": 4,
   "metadata": {},
   "outputs": [
    {
     "name": "stdout",
     "output_type": "stream",
     "text": [
      "<__main__.Person object at 0x0000023D99D48980>\n",
      "<__main__.Person object at 0x0000023D99D48980>\n"
     ]
    }
   ],
   "source": [
    "#Hàm __repr__: trả về chuỗi ký tự đại diện\n",
    "class Person:\n",
    "    def __init__(self, name, birth):\n",
    "        self.name = name\n",
    "        self.birth = birth\n",
    "if __name__ == '__main__':\n",
    "    s = Person('Duc Dat', '13/02/2003')\n",
    "    print(s)\n",
    "    print(s.__repr__())"
   ]
  },
  {
   "cell_type": "code",
   "execution_count": null,
   "metadata": {},
   "outputs": [],
   "source": []
  }
 ],
 "metadata": {
  "kernelspec": {
   "display_name": "Duong",
   "language": "python",
   "name": "python3"
  },
  "language_info": {
   "codemirror_mode": {
    "name": "ipython",
    "version": 3
   },
   "file_extension": ".py",
   "mimetype": "text/x-python",
   "name": "python",
   "nbconvert_exporter": "python",
   "pygments_lexer": "ipython3",
   "version": "3.13.0"
  }
 },
 "nbformat": 4,
 "nbformat_minor": 2
}
