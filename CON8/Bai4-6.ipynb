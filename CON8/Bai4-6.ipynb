{
 "cells": [
  {
   "cell_type": "code",
   "execution_count": 3,
   "metadata": {},
   "outputs": [
    {
     "name": "stdout",
     "output_type": "stream",
     "text": [
      "10\n",
      "19\n",
      "9\n",
      "23\n",
      "3\n"
     ]
    }
   ],
   "source": [
    "#Prime 1\n",
    "from math import *\n",
    "prime = [True] * (10**6 + 1)\n",
    "def sieve():\n",
    "    prime[0], prime[1] = False, False\n",
    "    for i in range(2, isqrt(10**6)+ 1):\n",
    "        if prime[i]:\n",
    "            for j in range(i*i, 10**6 + 1, i):\n",
    "                prime[j] = False\n",
    "\n",
    "if __name__ == '__main__':\n",
    "    sieve()\n",
    "    f = [0]*(10**6+1)\n",
    "    f[0], f[1] = 0,0\n",
    "    dem = 0\n",
    "    for i in range(2, 10**6+1):\n",
    "        if prime[i]:\n",
    "            dem += 1\n",
    "        f[i] = dem\n",
    "    tc = int(input())\n",
    "    for _ in range(tc):\n",
    "        n = int(input())\n",
    "        print(f[n])"
   ]
  },
  {
   "cell_type": "code",
   "execution_count": 6,
   "metadata": {},
   "outputs": [
    {
     "name": "stdout",
     "output_type": "stream",
     "text": [
      "7\n",
      "7\n",
      "16\n",
      "17\n",
      "12\n",
      "4\n",
      "25\n",
      "3\n"
     ]
    }
   ],
   "source": [
    "#Prime 2\n",
    "from math import *\n",
    "prime = [1] * (10**6+1)\n",
    "def sang():\n",
    "    prime[0], prime[1] = 0,0\n",
    "    for i in range(2, isqrt(10**6) + 1):\n",
    "        if prime[i]:\n",
    "            for j in range(i*i, 10**6 + 1, i):\n",
    "                prime[j] = 0\n",
    "\n",
    "if __name__ == '__main__':\n",
    "    sang()\n",
    "    f = [0] * (10**6 + 1)\n",
    "    f[0], f[1] = 0, 0\n",
    "    for i in range(2, 10**6+1):\n",
    "        f[i] = f[i-1] + prime[i] # Tính tổng tích lũy các số nguyên tố\n",
    "    tc = int(input())\n",
    "    for _ in range(tc):\n",
    "        l,r = map(int, input().split())\n",
    "        if l <= 0 :\n",
    "            print(\"0\")\n",
    "        else:\n",
    "            print(f[r] - f[l-1])\n"
   ]
  },
  {
   "cell_type": "code",
   "execution_count": 7,
   "metadata": {},
   "outputs": [
    {
     "name": "stdout",
     "output_type": "stream",
     "text": [
      "9699690\n",
      "30030\n",
      "210\n",
      "9699690\n",
      "469693188\n"
     ]
    }
   ],
   "source": [
    "#Prime 3\n",
    "from math import *\n",
    "MOD = 10**9+7\n",
    "prime = [1] * (10**6+1)\n",
    "def sang():\n",
    "    prime[0], prime[1] = 0,0\n",
    "    for i in range(2, isqrt(10**6) + 1):\n",
    "        if prime[i]:\n",
    "            for j in range(i*i, 10**6 + 1, i):\n",
    "                prime[j] = 0\n",
    "if __name__ == '__main__':\n",
    "    sang()\n",
    "    f = [0] * (10**6 + 1)\n",
    "    f[0], f[1], f[2] = 0,0,2\n",
    "    for i in range(3, 10**6 + 1):\n",
    "        if prime[i]:\n",
    "            f[i] = f[i-1] * i\n",
    "        else:\n",
    "            f[i] = f[i-1]\n",
    "        f[i] %= MOD \n",
    "    tc = int(input())\n",
    "    for _ in range(tc):\n",
    "        n = int(input())\n",
    "        print(f[n])"
   ]
  }
 ],
 "metadata": {
  "kernelspec": {
   "display_name": "Duong",
   "language": "python",
   "name": "python3"
  },
  "language_info": {
   "codemirror_mode": {
    "name": "ipython",
    "version": 3
   },
   "file_extension": ".py",
   "mimetype": "text/x-python",
   "name": "python",
   "nbconvert_exporter": "python",
   "pygments_lexer": "ipython3",
   "version": "3.13.0"
  }
 },
 "nbformat": 4,
 "nbformat_minor": 2
}
