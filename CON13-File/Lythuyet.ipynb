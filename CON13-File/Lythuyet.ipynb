{
 "cells": [
  {
   "cell_type": "markdown",
   "metadata": {},
   "source": [
    "# Lý thuyết\n",
    "- 1. Hàm open()\n",
    "- 2. Đọc file\n",
    "- 3. Tạo và ghi file\n",
    "- 4. Xóa file"
   ]
  },
  {
   "cell_type": "markdown",
   "metadata": {},
   "source": [
    "**1.Hàm open()**\n",
    "| MODE | Ý nghĩa                           |\n",
    "|------|-----------------------------------|\n",
    "| r    | Đọc file                          |\n",
    "| w    | Ghi File                          |\n",
    "| a    | Mở File => ghi tiếp vào cuối File |\n",
    "| x    | Tạo File                          |\n",
    "- cú pháp: f = open(\"tên_file\", 'mode')"
   ]
  },
  {
   "cell_type": "code",
   "execution_count": 4,
   "metadata": {},
   "outputs": [
    {
     "name": "stdout",
     "output_type": "stream",
     "text": [
      "Nguyễn Đức Đại\n",
      "B22DCVT120\n",
      "D22CQVT08-B\n",
      "\n",
      "\n"
     ]
    }
   ],
   "source": [
    "#Đọc file\n",
    "f = open('input.txt', 'r')\n",
    "print(f.read())"
   ]
  },
  {
   "cell_type": "code",
   "execution_count": 6,
   "metadata": {},
   "outputs": [
    {
     "name": "stdout",
     "output_type": "stream",
     "text": [
      "Nguyễn Đức Đại\n",
      "\n",
      "B22DCVT120\n",
      "\n",
      "D22CQVT08-B\n"
     ]
    }
   ],
   "source": [
    "f = open('input.txt', 'r')\n",
    "for line in f:\n",
    "    print(line)\n",
    "f.close()"
   ]
  },
  {
   "cell_type": "code",
   "execution_count": 7,
   "metadata": {},
   "outputs": [],
   "source": [
    "#Tạo và ghi file-xóa hết nội dung cũ\n",
    "f = open('input.txt', 'w')\n",
    "f.write('Mai Đức Đạt')\n",
    "f.close()"
   ]
  },
  {
   "cell_type": "code",
   "execution_count": 8,
   "metadata": {},
   "outputs": [],
   "source": [
    "f = open('input.txt', 'a')\n",
    "f.write('\\nMai Đức Đạt')\n",
    "f.close()"
   ]
  },
  {
   "cell_type": "code",
   "execution_count": 9,
   "metadata": {},
   "outputs": [],
   "source": [
    "#hàm remove() của os: xóa file\n",
    "#Cú pháp: os.remove('tên_file')\n",
    "import os\n",
    "os.remove('input.txt')"
   ]
  },
  {
   "cell_type": "code",
   "execution_count": 10,
   "metadata": {},
   "outputs": [
    {
     "name": "stdout",
     "output_type": "stream",
     "text": [
      "NOT FOUND\n"
     ]
    }
   ],
   "source": [
    "#Kiểm tra file tồn tại\n",
    "import os\n",
    "if os.path.exists('input.txt'):\n",
    "    print('FOUND')\n",
    "else:\n",
    "    print('NOT FOUND')"
   ]
  },
  {
   "cell_type": "code",
   "execution_count": null,
   "metadata": {},
   "outputs": [],
   "source": []
  }
 ],
 "metadata": {
  "kernelspec": {
   "display_name": "Duong",
   "language": "python",
   "name": "python3"
  },
  "language_info": {
   "codemirror_mode": {
    "name": "ipython",
    "version": 3
   },
   "file_extension": ".py",
   "mimetype": "text/x-python",
   "name": "python",
   "nbconvert_exporter": "python",
   "pygments_lexer": "ipython3",
   "version": "3.13.0"
  }
 },
 "nbformat": 4,
 "nbformat_minor": 2
}
