{
 "cells": [
  {
   "cell_type": "markdown",
   "metadata": {},
   "source": [
    "# 1.Khái niệm\n",
    "- Set là một tập hợp các phần tử duy nhất không có thứ tự. Thường được sử dụng để thực hiện tính toán liên quan đến tổ hợp\n",
    "- Các tính chất của set:\n",
    "    - Các phần tử trong set không có thứ tự\n",
    "    - Các phần tử trong set không thể truy cập được bằng chỉ số\n",
    "    - Các phần tử trong set là độc nhất\n",
    "    - Các phần tử trong set có thể thay đổi"
   ]
  },
  {
   "cell_type": "code",
   "execution_count": 1,
   "metadata": {},
   "outputs": [
    {
     "name": "stdout",
     "output_type": "stream",
     "text": [
      "{'hoc', 'Ngoc', 'Python', 'Nguyen', 'Duong'}\n",
      "{1, 2, 3, 4, 'Boom'}\n"
     ]
    }
   ],
   "source": [
    "#Tạo set\n",
    "# set không lưu những phần tử có thể thay đổi được giá trị như list, tuple,...\n",
    "a = {\"Nguyen\", \"Ngoc\", \"Duong\", \"hoc\", \"Python\"}\n",
    "print(a)\n",
    "t = {1,1,1,2,3,4,\"Boom\"}\n",
    "print(t)"
   ]
  },
  {
   "cell_type": "code",
   "execution_count": 2,
   "metadata": {},
   "outputs": [
    {
     "name": "stdout",
     "output_type": "stream",
     "text": [
      "{'e', 'n', 'g', 'y', 'o', 'c', 'N', 'D', 'u'}\n",
      "[1, 2, 3, 4, 5, 6]\n"
     ]
    }
   ],
   "source": [
    "#Set constructor\n",
    "s = \"NguyenNgocDuong\"\n",
    "t = set(s)\n",
    "print(t)\n",
    "a = [1,2,3,4,5,6]\n",
    "b = set(a)\n",
    "print(a)"
   ]
  },
  {
   "cell_type": "code",
   "execution_count": 3,
   "metadata": {},
   "outputs": [
    {
     "name": "stdout",
     "output_type": "stream",
     "text": [
      "{1, 2, 3, 100, 4}\n"
     ]
    }
   ],
   "source": [
    "#thêm 1 phần tử trong set\n",
    "a = {1,2,3,4}\n",
    "a.add(100)\n",
    "print(a)"
   ]
  },
  {
   "cell_type": "code",
   "execution_count": 4,
   "metadata": {},
   "outputs": [
    {
     "name": "stdout",
     "output_type": "stream",
     "text": [
      "{'hoc', 100, '28tech', 'Duong', 'python', 'abc'}\n"
     ]
    }
   ],
   "source": [
    "#thêm nhiều phần tử trong set\n",
    "a = {\"28tech\", \"abc\", \"python\"}\n",
    "a.update([100, \"abc\", \"Duong\", \"hoc\"])\n",
    "print(a)"
   ]
  },
  {
   "cell_type": "code",
   "execution_count": 9,
   "metadata": {},
   "outputs": [
    {
     "name": "stdout",
     "output_type": "stream",
     "text": [
      "{'python', 'abc'}\n",
      "{'python'}\n"
     ]
    }
   ],
   "source": [
    "#xóa ptu trong set: remove(), discard()\n",
    "b = {\"28tech\", \"abc\", \"python\"}\n",
    "b.remove(\"28tech\")\n",
    "print(b)\n",
    "b.discard(\"abc\")\n",
    "print(b)"
   ]
  },
  {
   "cell_type": "code",
   "execution_count": 11,
   "metadata": {},
   "outputs": [
    {
     "name": "stdout",
     "output_type": "stream",
     "text": [
      "5\n",
      "hoc python abc 28tech Duong \n",
      "Found\n"
     ]
    }
   ],
   "source": [
    "#Xóa phần tử ngẫu nhiên, toàn bộ trong set pop() và clear()\n",
    "#Hàm len(), duyệt set và hàm in\n",
    "a = {\"28tech\", \"abc\", \"python\", \"hoc\", \"Duong\"}\n",
    "print(len(a))\n",
    "for x in a:\n",
    "    print(x, end = ' ')\n",
    "print()\n",
    "if \"Duong\" in a:\n",
    "    print(\"Found\")\n",
    "else:\n",
    "    print(\"Not Found\")"
   ]
  },
  {
   "cell_type": "code",
   "execution_count": 13,
   "metadata": {},
   "outputs": [
    {
     "name": "stdout",
     "output_type": "stream",
     "text": [
      "{'hoc', 'python', 'abc', '28tech', 'Duong'}\n",
      "{'hoc', 'python', 'stack', 'full', 'Hai'}\n",
      "{'hoc', 'stack', '28tech', 'Hai', 'Duong', 'python', 'abc', 'full'}\n",
      "{'hoc', 'stack', '28tech', 'Hai', 'Duong', 'python', 'abc', 'full'}\n",
      "{'hoc', 'python'}\n",
      "{'hoc', 'python'}\n"
     ]
    }
   ],
   "source": [
    "# Các phép toán trên tập hợp\n",
    "# union(): phép toán lấy các phần tử thuộc 1 trong 2 tập hợp\n",
    "# Sử dụng hàm union() hay dấu | để tìm hợp của 2 tập hợp\n",
    "#intersection: phép toán lấy các phần tử thuộc cả 2 tập hợp\n",
    "#Sử dụng hàm intersection() hoặc dấu & để tìm giao của 2 tập hợp\n",
    "a = {\"28tech\", \"abc\", \"python\", \"hoc\", \"Duong\"}\n",
    "b = {\"Hai\", \"hoc\", \"full\", \"stack\", \"python\"}\n",
    "u = a.union(b)\n",
    "v = a | b\n",
    "x = a.intersection(b)\n",
    "y = a & b\n",
    "print(a)\n",
    "print(b)\n",
    "print(u)\n",
    "print(v)\n",
    "print(x)\n",
    "print(y)"
   ]
  },
  {
   "cell_type": "markdown",
   "metadata": {},
   "source": [
    "**Các hàm phổ biến trong set**\n",
    "- isdisjoint() : Xác định xem 2 tập có ptu nào chung hay không\n",
    "- issupset() : Xác định xem 1 tập có phải là tập con của tập còn lại không\n",
    "- issupperset(): Kiểm tra xem tập này có phải là cha của tập kia không"
   ]
  }
 ],
 "metadata": {
  "kernelspec": {
   "display_name": "Duong",
   "language": "python",
   "name": "python3"
  },
  "language_info": {
   "codemirror_mode": {
    "name": "ipython",
    "version": 3
   },
   "file_extension": ".py",
   "mimetype": "text/x-python",
   "name": "python",
   "nbconvert_exporter": "python",
   "pygments_lexer": "ipython3",
   "version": "3.13.0"
  }
 },
 "nbformat": 4,
 "nbformat_minor": 2
}
