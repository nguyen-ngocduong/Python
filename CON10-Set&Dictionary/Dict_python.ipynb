{
 "cells": [
  {
   "cell_type": "markdown",
   "metadata": {},
   "source": [
    "# 1.Khái niệm\n",
    "- là một cấu trúc dữ liệu mà mỗi phần tử của nó sẽ ánh xạ từ 1 từ khóa (key) sang một giá trị(value) bất kỳ"
   ]
  },
  {
   "cell_type": "code",
   "execution_count": 2,
   "metadata": {},
   "outputs": [
    {
     "name": "stdout",
     "output_type": "stream",
     "text": [
      "{'name': 'Nguyen Ngoc Duong', 'MSV': 'B22DCVT112', 'Lop': 'D22CQVT08-B', 'city': 'Hai Duong'}\n",
      "{'name': 'Nguyen Duc Anh', 'MSV': 'B22DCVT128', 'Lop': 'D22CQVT08-B', 'city': 'Ha Noi'}\n",
      "{'name': 'Mai Duc Dan', 'MSV': 'B22DCVT120', 'Lop': 'D22CQVT08-B', 'city': 'Thanh Hoa'}\n"
     ]
    }
   ],
   "source": [
    "#Tạo dictionary\n",
    "sinhvien1 = {\n",
    "    'name' : 'Nguyen Ngoc Duong',\n",
    "    'MSV' : 'B22DCVT112',\n",
    "    'Lop' : 'D22CQVT08-B',\n",
    "    'city' : 'Hai Duong'\n",
    "}\n",
    "tmp = [['name', 'Nguyen Duc Anh'], ['MSV', 'B22DCVT128'], ['Lop', 'D22CQVT08-B'], ['city', 'Ha Noi']]\n",
    "sinhvien2 = dict(tmp)\n",
    "a = ['name', 'MSV', 'Lop', 'city']\n",
    "b = ['Mai Duc Dan', 'B22DCVT120', 'D22CQVT08-B', 'Thanh Hoa']\n",
    "sinhvien3 = dict(zip(a,b))\n",
    "print(sinhvien1)\n",
    "print(sinhvien2)\n",
    "print(sinhvien3)"
   ]
  },
  {
   "cell_type": "code",
   "execution_count": 3,
   "metadata": {},
   "outputs": [
    {
     "name": "stdout",
     "output_type": "stream",
     "text": [
      "Nguyen Ngoc Duong\n",
      "B22DCVT112\n"
     ]
    }
   ],
   "source": [
    "# truy cập phần tử : dict[key]\n",
    "sinhvien1 = {\n",
    "    'name' : 'Nguyen Ngoc Duong',\n",
    "    'MSV' : 'B22DCVT112',\n",
    "    'Lop' : 'D22CQVT08-B',\n",
    "    'city' : 'Hai Duong'\n",
    "}\n",
    "print(sinhvien1['name'])\n",
    "print(sinhvien1['MSV'])"
   ]
  },
  {
   "cell_type": "code",
   "execution_count": 5,
   "metadata": {},
   "outputs": [
    {
     "name": "stdout",
     "output_type": "stream",
     "text": [
      "['name', 'MSV', 'Lop', 'city']\n",
      "['Nguyen Duc Anh', 'B22DCVT128', 'D22CQVT08-B', 'Ha Noi']\n",
      "[('name', 'Nguyen Duc Anh'), ('MSV', 'B22DCVT128'), ('Lop', 'D22CQVT08-B'), ('city', 'Ha Noi')]\n",
      "name\n",
      "Mai Duc Dan\n",
      "MSV\n",
      "B22DCVT120\n",
      "Lop\n",
      "D22CQVT08-B\n",
      "city\n",
      "Thanh Hoa\n"
     ]
    }
   ],
   "source": [
    "#Duyệt dictionary\n",
    "a = list(sinhvien2.keys())\n",
    "b = list(sinhvien2.values())\n",
    "c = list(sinhvien2.items())\n",
    "print(a)\n",
    "print(b)\n",
    "print(c)\n",
    "for key, value in sinhvien3.items():\n",
    "    print(key)\n",
    "    print(value)"
   ]
  },
  {
   "cell_type": "code",
   "execution_count": 10,
   "metadata": {},
   "outputs": [
    {
     "name": "stdout",
     "output_type": "stream",
     "text": [
      "{'name': 'Nguyen Van Duong', 'MSV': 'B22DCVT112', 'Lop': 'D22CQVT08-B', 'city': 'Hai Duong', 'Age': 20}\n",
      "{'name': 'Nguyen Van Duong', 'MSV': 'B22DCVT112', 'Lop': 'D22CQVT08-B', 'Age': 20}\n"
     ]
    }
   ],
   "source": [
    "# thêm và sửa : dict(key) = value\n",
    "# xóa: dict.pop(key)\n",
    "sinhvien1 = {\n",
    "    'name' : 'Nguyen Ngoc Duong',\n",
    "    'MSV' : 'B22DCVT112',\n",
    "    'Lop' : 'D22CQVT08-B',\n",
    "    'city' : 'Hai Duong'\n",
    "}\n",
    "sinhvien1['Age'] = 20\n",
    "sinhvien1['name'] = 'Nguyen Van Duong'\n",
    "print(sinhvien1)\n",
    "sinhvien1.pop('city')\n",
    "print(sinhvien1)"
   ]
  },
  {
   "cell_type": "code",
   "execution_count": 16,
   "metadata": {},
   "outputs": [
    {
     "name": "stdout",
     "output_type": "stream",
     "text": [
      "1 4\n",
      "2 2\n",
      "3 1\n",
      "4 1\n",
      "0 1\n",
      "5 1\n",
      "[(1, 4), (2, 2), (3, 1), (4, 1), (0, 1), (5, 1)]\n",
      "(1, 4) <class 'tuple'>\n",
      "[(0, 1), (1, 4), (2, 2), (3, 1), (4, 1), (5, 1)]\n"
     ]
    }
   ],
   "source": [
    "#Bài tập liên quan đến tần suất xuất hiện của phần tử => liên quan đến dict\n",
    "if __name__ == '__main__':\n",
    "    a = [1,2,1,3,1,4,1,0,2,5]\n",
    "    b = {} # tạo 1 dict\n",
    "    for x in a:\n",
    "        if x in b:\n",
    "            b[x] += 1\n",
    "        else:\n",
    "            b[x] = 1\n",
    "    for val, tansuat in b.items():\n",
    "        print(val, tansuat)\n",
    "    c = list(b.items())\n",
    "    print(c)\n",
    "    print(c[0], type(c[0]))\n",
    "    c.sort(key = lambda x : x[0])\n",
    "    print(c)"
   ]
  },
  {
   "cell_type": "code",
   "execution_count": 24,
   "metadata": {},
   "outputs": [
    {
     "name": "stdout",
     "output_type": "stream",
     "text": [
      "{}\n",
      "[('28tech', 2), ('abc', 2), ('python', 1), ('c++', 1), ('java', 1)]\n",
      "[('28tech', 2), ('abc', 2), ('python', 1), ('c++', 1), ('java', 1)]\n",
      "28tech 2\n"
     ]
    }
   ],
   "source": [
    "#tìm từ xuất hiện nhiều nhất trong câu\n",
    "s = \"28tech 28tech abc abc python c++ java\"\n",
    "d = {}\n",
    "print(d)\n",
    "for x in s.split():\n",
    "    if x in d:\n",
    "        d[x] += 1\n",
    "    else:\n",
    "        d[x] = 1\n",
    "b = list(d.items())\n",
    "print(b)\n",
    "b.sort(key = lambda x : x[1], reverse=True)\n",
    "print(b)\n",
    "print(b[0][0], b[0][1])"
   ]
  },
  {
   "cell_type": "code",
   "execution_count": 30,
   "metadata": {},
   "outputs": [
    {
     "name": "stdout",
     "output_type": "stream",
     "text": [
      "{1: 1, 2: 4, 3: 9, 4: 16}\n",
      "{1: 1, 2: 4, 3: 27, 4: 256}\n",
      "{'a': 'a4', 'b': 'b4', 'c': 'c4'}\n"
     ]
    }
   ],
   "source": [
    "#dict comprehension\n",
    "#cú pháp: {'key' : value for var in iterable}\n",
    "a = [1,2,3,4]\n",
    "s = 'abc'\n",
    "d1 = {}\n",
    "for x in a:\n",
    "    d1[x] = x ** 2\n",
    "print(d1)\n",
    "# compre\n",
    "d2 = {x : x ** x for x in a}\n",
    "print(d2)\n",
    "d = {x : x + '4' for x in s}\n",
    "print(d)"
   ]
  },
  {
   "cell_type": "code",
   "execution_count": 35,
   "metadata": {},
   "outputs": [
    {
     "name": "stdout",
     "output_type": "stream",
     "text": [
      "dict_items([('mai duc dan', 'MAI DUC DAN'), ('b22dcvt120', 'B22DCVT120'), ('d22cqvt08-b', 'D22CQVT08-B'), ('thanh hoa', 'THANH HOA')])\n",
      "mai duc dan MAI DUC DAN\n",
      "b22dcvt120 B22DCVT120\n",
      "d22cqvt08-b D22CQVT08-B\n",
      "thanh hoa THANH HOA\n"
     ]
    }
   ],
   "source": [
    "s = ['Mai Duc Dan', 'B22DCVT120', 'D22CQVT08-B', 'Thanh Hoa']\n",
    "b = {x.lower() : x.upper() for x in s}\n",
    "print(b.items())\n",
    "for key, val in b.items():\n",
    "    print(key, val)"
   ]
  },
  {
   "cell_type": "code",
   "execution_count": 41,
   "metadata": {},
   "outputs": [
    {
     "name": "stdout",
     "output_type": "stream",
     "text": [
      "name Nguyen Ngoc Duong\n",
      "MSV B22DCVT112\n"
     ]
    }
   ],
   "source": [
    "sinhvien1 = {\n",
    "    'name' : 'Nguyen Ngoc Duong',\n",
    "    'MSV' : 'B22DCVT112',\n",
    "    'Lop' : 'D22CQVT08-B',\n",
    "    'city' : 'Hai Duong'\n",
    "}\n",
    "selected = ['name', 'MSV']\n",
    "d = {x : sinhvien1[x] for x in selected}\n",
    "for key, val in d.items():\n",
    "    print(key, val)"
   ]
  },
  {
   "cell_type": "code",
   "execution_count": null,
   "metadata": {},
   "outputs": [],
   "source": []
  }
 ],
 "metadata": {
  "kernelspec": {
   "display_name": "Duong",
   "language": "python",
   "name": "python3"
  },
  "language_info": {
   "codemirror_mode": {
    "name": "ipython",
    "version": 3
   },
   "file_extension": ".py",
   "mimetype": "text/x-python",
   "name": "python",
   "nbconvert_exporter": "python",
   "pygments_lexer": "ipython3",
   "version": "3.13.0"
  }
 },
 "nbformat": 4,
 "nbformat_minor": 2
}
