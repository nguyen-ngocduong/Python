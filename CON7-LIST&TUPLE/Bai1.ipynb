{
 "cells": [
  {
   "cell_type": "code",
   "execution_count": 1,
   "metadata": {},
   "outputs": [
    {
     "name": "stdout",
     "output_type": "stream",
     "text": [
      "1\n",
      "2\n",
      "3\n",
      "4\n",
      "5\n"
     ]
    }
   ],
   "source": [
    "a = [1,2,3,4,5]\n",
    "for item in a:\n",
    "    print(item)"
   ]
  },
  {
   "cell_type": "code",
   "execution_count": 2,
   "metadata": {},
   "outputs": [
    {
     "name": "stdout",
     "output_type": "stream",
     "text": [
      "[1, 2, 'Duong', 4, 5]\n"
     ]
    }
   ],
   "source": [
    "a = [1,2,3,4,5]\n",
    "a[2] = 'Duong'\n",
    "print(a)"
   ]
  },
  {
   "cell_type": "code",
   "execution_count": 3,
   "metadata": {},
   "outputs": [
    {
     "name": "stdout",
     "output_type": "stream",
     "text": [
      "[1, 2, 3, 4, 10]\n",
      "[1, 2, 3, 4, 10, 100]\n"
     ]
    }
   ],
   "source": [
    "#thêm phần tử trong list thêm 1 phần tử vào cuối\n",
    "a = [1,2,3,4]\n",
    "a.append(10)\n",
    "print(a)\n",
    "a.append(100)\n",
    "print(a)"
   ]
  },
  {
   "cell_type": "code",
   "execution_count": 4,
   "metadata": {},
   "outputs": [
    {
     "name": "stdout",
     "output_type": "stream",
     "text": [
      "[1, 2, 100, 3, 4]\n"
     ]
    }
   ],
   "source": [
    "#thêm 1 phần tử vào vị trí bất kỳ\n",
    "a = [1,2,3,4]\n",
    "#chèn 100 vào chỉ số 2\n",
    "a.insert(2,100)\n",
    "print(a)"
   ]
  },
  {
   "cell_type": "code",
   "execution_count": 5,
   "metadata": {},
   "outputs": [
    {
     "name": "stdout",
     "output_type": "stream",
     "text": [
      "[1, 5, 20, 30]\n",
      "[1, 5, 20]\n"
     ]
    }
   ],
   "source": [
    "#xóa 1 phần tử trong list\n",
    "a = [1,5,10,20,30]\n",
    "a.pop(2)\n",
    "print(a)\n",
    "a.pop() #ko chỉ rõ => xóa ptu ở cuối\n",
    "print(a)"
   ]
  },
  {
   "cell_type": "code",
   "execution_count": 6,
   "metadata": {},
   "outputs": [
    {
     "name": "stdout",
     "output_type": "stream",
     "text": [
      "[1, 5, 10, 20, 3, 4]\n"
     ]
    }
   ],
   "source": [
    "#hàm remove() xóa thông qua giá trị, hàm clear() xóa tất cả ptu trong list\n",
    "a = [1,5,10,20,2,3,4]\n",
    "a.remove(2)\n",
    "print(a)"
   ]
  },
  {
   "cell_type": "code",
   "execution_count": 9,
   "metadata": {},
   "outputs": [
    {
     "name": "stdout",
     "output_type": "stream",
     "text": [
      "Yes\n"
     ]
    }
   ],
   "source": [
    "# tìm kiếm phần tử trong list\n",
    "def linear_search(a,x):\n",
    "    for item in a:\n",
    "        if item in a:\n",
    "            return True\n",
    "        return False\n",
    "a = ['apple', 'orange', 1,2,3]\n",
    "if linear_search(a, 'apple'):\n",
    "    print(\"Yes\")\n",
    "else: print(\"NO\")"
   ]
  },
  {
   "cell_type": "code",
   "execution_count": 11,
   "metadata": {},
   "outputs": [
    {
     "name": "stdout",
     "output_type": "stream",
     "text": [
      "True\n",
      "[1, 2, 3]\n",
      "True\n",
      "False\n"
     ]
    }
   ],
   "source": [
    "#các phương thức của list\n",
    "a = [1,2,3]\n",
    "b = a\n",
    "print(a is b)\n",
    "c = a.copy()\n",
    "print(c)\n",
    "print(c == a)\n",
    "print(c is a)"
   ]
  },
  {
   "cell_type": "code",
   "execution_count": 12,
   "metadata": {},
   "outputs": [
    {
     "name": "stdout",
     "output_type": "stream",
     "text": [
      "0\n",
      "7\n"
     ]
    }
   ],
   "source": [
    "#hàm count(i): trả về số lần xuất hiện của 1 ptu bất kỳ trong list\n",
    "#hàm index(i): trả về chỉ số đầu tiên của 1 phần tử trong list\n",
    "a = [1,2,3,1,2,1,1,4,3,1,2,1,1]\n",
    "print(a.index(1))\n",
    "print(a.count(1))"
   ]
  },
  {
   "cell_type": "code",
   "execution_count": 14,
   "metadata": {},
   "outputs": [
    {
     "name": "stdout",
     "output_type": "stream",
     "text": [
      "[4, 3, 2, 1]\n",
      "[1, 2, 3, 4, 5, 6]\n"
     ]
    }
   ],
   "source": [
    "#hàm reverse(): lật ngược một list\n",
    "#hàm sort(): sắp xếp các ptu trong list\n",
    "a = [1,2,3,4]\n",
    "b = [1,5,4,2,3,6]\n",
    "a.reverse()\n",
    "b.sort()\n",
    "print(a)\n",
    "print(b)"
   ]
  },
  {
   "cell_type": "code",
   "execution_count": 17,
   "metadata": {},
   "outputs": [
    {
     "name": "stdout",
     "output_type": "stream",
     "text": [
      "[1, 2, 3, 4, 5, 6, 7, 8, 9]\n",
      "9\n",
      "1\n",
      "45\n"
     ]
    }
   ],
   "source": [
    "a = [1,5,4,3,6,7,2,8,9]\n",
    "b = sorted(a)\n",
    "print(b)\n",
    "print(max(a))\n",
    "print(min(a))\n",
    "print(sum(a))"
   ]
  },
  {
   "cell_type": "markdown",
   "metadata": {},
   "source": [
    "### list slicing"
   ]
  },
  {
   "cell_type": "code",
   "execution_count": 18,
   "metadata": {},
   "outputs": [
    {
     "name": "stdout",
     "output_type": "stream",
     "text": [
      "[30, 40, 50]\n"
     ]
    }
   ],
   "source": [
    "#list slicing cú pháp: list[start,stop, step]\n",
    "a = [10,20,30,40,50,60]\n",
    "b = a[2 : 5 : 1]\n",
    "print(b)"
   ]
  },
  {
   "cell_type": "code",
   "execution_count": 20,
   "metadata": {},
   "outputs": [
    {
     "name": "stdout",
     "output_type": "stream",
     "text": [
      "[30, 40, 50, 60]\n",
      "[80, 70, 60, 50, 40, 30, 20, 10]\n"
     ]
    }
   ],
   "source": [
    "#slicing với chỉ số âm\n",
    "a = [10,20,30,40,50,60,70,80]\n",
    "b = a[2:-2]\n",
    "print(b)\n",
    "#lật ngược list\n",
    "c = a[::-1]\n",
    "print(c)"
   ]
  },
  {
   "cell_type": "code",
   "execution_count": 22,
   "metadata": {},
   "outputs": [
    {
     "name": "stdout",
     "output_type": "stream",
     "text": [
      "[1, 2, 3, 10, 20, 30, 40, 50, 60, 70, 80]\n",
      "[1, 2, 3, 10, 20, 30, 40, 50, 60, 70, 80, 4, 5, 6]\n"
     ]
    }
   ],
   "source": [
    "#chèn\n",
    "a = [10,20,30,40,50,60,70,80]\n",
    "a[:0] = [1,2,3]\n",
    "print(a)\n",
    "a[len(a):] = [4,5,6]\n",
    "print(a)"
   ]
  },
  {
   "cell_type": "code",
   "execution_count": 23,
   "metadata": {},
   "outputs": [
    {
     "name": "stdout",
     "output_type": "stream",
     "text": [
      "[10, 20, 30, 40, 50, 60, 70, 80]\n",
      "False\n",
      "True\n",
      "False\n"
     ]
    }
   ],
   "source": [
    "a = [10,20,30,40,50,60,70,80]\n",
    "b = a.copy()\n",
    "print(b)\n",
    "print(a is b)\n",
    "c = a[:]\n",
    "print(a == c)\n",
    "print(a is c)"
   ]
  },
  {
   "cell_type": "markdown",
   "metadata": {},
   "source": [
    "### Hàm Lambda"
   ]
  },
  {
   "cell_type": "code",
   "execution_count": 27,
   "metadata": {},
   "outputs": [
    {
     "name": "stdout",
     "output_type": "stream",
     "text": [
      "4\n",
      "20\n",
      "600\n"
     ]
    }
   ],
   "source": [
    "func = lambda x : x*2\n",
    "print(func(2))\n",
    "res = (lambda x : x*2)(10)\n",
    "print(res)\n",
    "print((lambda x,y,z : x + y + z)(100,200,300))"
   ]
  },
  {
   "cell_type": "code",
   "execution_count": 28,
   "metadata": {},
   "outputs": [
    {
     "name": "stdout",
     "output_type": "stream",
     "text": [
      "[1, 4, 9, 16, 25]\n"
     ]
    }
   ],
   "source": [
    "#lambda và map()\n",
    "a = [1,2,3,4,5]\n",
    "b = list(map(lambda x : x ** 2, a))\n",
    "print(b)"
   ]
  },
  {
   "cell_type": "code",
   "execution_count": 29,
   "metadata": {},
   "outputs": [
    {
     "name": "stdout",
     "output_type": "stream",
     "text": [
      "100\n"
     ]
    }
   ],
   "source": [
    "findMax = lambda x,y : x if x > y else y\n",
    "print(findMax(100,20))"
   ]
  },
  {
   "cell_type": "markdown",
   "metadata": {},
   "source": [
    "### List Comprehension"
   ]
  },
  {
   "cell_type": "code",
   "execution_count": 34,
   "metadata": {},
   "outputs": [
    {
     "name": "stdout",
     "output_type": "stream",
     "text": [
      "[4, 5, 6, 7, 8, 9, 10, 11]\n",
      "[1, 4, 9, 16, 25, 36, 49, 64, 81, 100]\n",
      "['N', 'g', 'u', 'y', 'e', 'n', 'N', 'g', 'o', 'c', 'D', 'u', 'o', 'n', 'g']\n"
     ]
    }
   ],
   "source": [
    "a = [1,2,3,4,5,6,7,8]\n",
    "b = [x + 3 for x in a]\n",
    "print(b)\n",
    "c = [x**2 for x in range(1,11)]\n",
    "print(c)\n",
    "s = \"NguyenNgocDuong\"\n",
    "a = [x for x in s]\n",
    "print(a)"
   ]
  },
  {
   "cell_type": "code",
   "execution_count": 35,
   "metadata": {},
   "outputs": [
    {
     "name": "stdout",
     "output_type": "stream",
     "text": [
      "[1, 8, 3, 4, 18, 12, 4, 6]\n"
     ]
    }
   ],
   "source": [
    "def sum_digit(n):\n",
    "    tong = 0\n",
    "    while n != 0:\n",
    "        tong += n%10\n",
    "        n //= 10\n",
    "    return tong\n",
    "a = [1,233,30,4,99,192,13,123]\n",
    "b = [sum_digit(x) for x in a]\n",
    "print(b)"
   ]
  },
  {
   "cell_type": "code",
   "execution_count": 37,
   "metadata": {},
   "outputs": [
    {
     "name": "stdout",
     "output_type": "stream",
     "text": [
      "[233, 30, 99, 192, 13, 123]\n"
     ]
    }
   ],
   "source": [
    "a = [1,233,30,4,99,192,13,123]\n",
    "b = [x for x in a if x >= 10]\n",
    "print(b)"
   ]
  },
  {
   "cell_type": "code",
   "execution_count": 42,
   "metadata": {},
   "outputs": [
    {
     "name": "stdout",
     "output_type": "stream",
     "text": [
      "[233, 13, 2, 3, 5, 7]\n"
     ]
    }
   ],
   "source": [
    "from math import *\n",
    "def prime(n):\n",
    "    if n < 2:\n",
    "        return False\n",
    "    for i in range(2, isqrt(n)+1):\n",
    "        if n % i == 0:\n",
    "            return False\n",
    "    return True\n",
    "a = [1,233,30,4,99,192,13,123,2,3,5,6,7,8,9,10]\n",
    "b = [x for x in a if(prime(x))]\n",
    "print(b)"
   ]
  },
  {
   "cell_type": "code",
   "execution_count": null,
   "metadata": {},
   "outputs": [],
   "source": []
  }
 ],
 "metadata": {
  "kernelspec": {
   "display_name": "Duong",
   "language": "python",
   "name": "python3"
  },
  "language_info": {
   "codemirror_mode": {
    "name": "ipython",
    "version": 3
   },
   "file_extension": ".py",
   "mimetype": "text/x-python",
   "name": "python",
   "nbconvert_exporter": "python",
   "pygments_lexer": "ipython3",
   "version": "3.13.0"
  }
 },
 "nbformat": 4,
 "nbformat_minor": 2
}
