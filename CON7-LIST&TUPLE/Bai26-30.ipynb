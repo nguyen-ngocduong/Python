{
 "cells": [
  {
   "cell_type": "code",
   "execution_count": 2,
   "metadata": {},
   "outputs": [
    {
     "name": "stdout",
     "output_type": "stream",
     "text": [
      "4\n"
     ]
    }
   ],
   "source": [
    "#Mảng đánh dấu 1\n",
    "from math import *\n",
    "if __name__ == '__main__':\n",
    "    n = int(input())\n",
    "    a = list(map(int, input().split()))\n",
    "    cnt = [0]* (10**6+1)\n",
    "    dem = 0\n",
    "    for x in a:\n",
    "        if cnt[x] == 0:\n",
    "            dem += 1\n",
    "            cnt[x] = 1\n",
    "    print(dem)"
   ]
  },
  {
   "cell_type": "code",
   "execution_count": 6,
   "metadata": {},
   "outputs": [
    {
     "name": "stdout",
     "output_type": "stream",
     "text": [
      "0 1 \n",
      "4 1 \n",
      "6 3 \n",
      "8 1 \n"
     ]
    }
   ],
   "source": [
    "#Mảng đánh dấu 2\n",
    "from math import *\n",
    "if __name__ == '__main__':\n",
    "    n = int(input())\n",
    "    a = list(map(int, input().split()))\n",
    "    b = sorted(a)\n",
    "    cnt = [0] * 1000001\n",
    "    for x in b:\n",
    "        cnt[x] += 1\n",
    "    for x in b:\n",
    "        if cnt[x] != 0:  # Chỉ in khi giá trị chưa được xử lý\n",
    "            print(x, cnt[x], end=' ')\n",
    "            cnt[x] = 0\n",
    "            print()"
   ]
  },
  {
   "cell_type": "code",
   "execution_count": 7,
   "metadata": {},
   "outputs": [
    {
     "name": "stdout",
     "output_type": "stream",
     "text": [
      "1 1 \n",
      "6 3 \n",
      "9 2 \n",
      "0 1 \n",
      "4 1 \n",
      "3 1 \n"
     ]
    }
   ],
   "source": [
    "#Mảng đánh dấu 3\n",
    "from math import *\n",
    "if __name__ == '__main__':\n",
    "    n = int(input())\n",
    "    a = list(map(int, input().split()))\n",
    "    cnt = [0]*1000001\n",
    "    for x in a:\n",
    "        cnt[x] += 1\n",
    "    for x in a:\n",
    "        if cnt[x] != 0:\n",
    "            print(x, cnt[x], end = ' ')\n",
    "            cnt[x] = 0\n",
    "            print()"
   ]
  },
  {
   "cell_type": "code",
   "execution_count": 8,
   "metadata": {},
   "outputs": [
    {
     "name": "stdout",
     "output_type": "stream",
     "text": [
      "4 2\n"
     ]
    }
   ],
   "source": [
    "#Mảng đánh dấu 4\n",
    "from math import *\n",
    "if __name__ == '__main__':\n",
    "    n = int(input())\n",
    "    a = list(map(int, input().split()))\n",
    "    b = [1] * 1000001 #đánh dấu số lần xuất hiện của ptu\n",
    "    c = [0] * 1000001 #đánh dấu ptu được xét\n",
    "    for i in range(0, n):\n",
    "        for j in range(i+1,n):\n",
    "            if a[i] == a[j] and c[j] == 0:\n",
    "                b[i] += 1\n",
    "                c[j] = 1\n",
    "    x = max(b)\n",
    "    for i in range(len(a)):\n",
    "        if x == b[i]:\n",
    "            print(a[i], b[i])\n",
    "            break"
   ]
  },
  {
   "cell_type": "code",
   "execution_count": 9,
   "metadata": {},
   "outputs": [
    {
     "name": "stdout",
     "output_type": "stream",
     "text": [
      "7 1\n"
     ]
    }
   ],
   "source": [
    "#Mảng đánh dấu 5\n",
    "from math import *\n",
    "if __name__ == '__main__':\n",
    "    n = int(input())\n",
    "    a = list(map(int, input().split()))\n",
    "    b = [1] * 1000001 #đánh dấu số lần xuất hiện của ptu\n",
    "    c = [0] * 1000001 #đánh dấu ptu được xét\n",
    "    for i in range(0, n):\n",
    "        for j in range(i+1,n):\n",
    "            if a[i] == a[j] and c[j] == 0:\n",
    "                b[i] += 1\n",
    "                c[j] = 1\n",
    "    x = max(b)\n",
    "    for i in range(len(a)):\n",
    "        if x == b[i]:\n",
    "            print(a[i], b[i])\n",
    "            break"
   ]
  }
 ],
 "metadata": {
  "kernelspec": {
   "display_name": "Duong",
   "language": "python",
   "name": "python3"
  },
  "language_info": {
   "codemirror_mode": {
    "name": "ipython",
    "version": 3
   },
   "file_extension": ".py",
   "mimetype": "text/x-python",
   "name": "python",
   "nbconvert_exporter": "python",
   "pygments_lexer": "ipython3",
   "version": "3.13.0"
  }
 },
 "nbformat": 4,
 "nbformat_minor": 2
}
