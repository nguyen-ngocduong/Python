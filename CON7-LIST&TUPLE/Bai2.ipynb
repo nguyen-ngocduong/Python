{
 "cells": [
  {
   "cell_type": "markdown",
   "metadata": {},
   "source": [
    "### 3 dạng toán cơ bản trên mảng 1 chiều"
   ]
  },
  {
   "cell_type": "code",
   "execution_count": 5,
   "metadata": {},
   "outputs": [
    {
     "name": "stdout",
     "output_type": "stream",
     "text": [
      "7 31 "
     ]
    }
   ],
   "source": [
    "#liệt kê, dế, các ptu thỏa mãn tính chất nào đó trong list\n",
    "from math import *\n",
    "def prime(n):\n",
    "    if n < 2:\n",
    "        return False\n",
    "    for i in range(2, isqrt(n)+1):\n",
    "        if n%i == 0:\n",
    "            return False\n",
    "    return True\n",
    "\n",
    "if __name__ == \"__main__\":\n",
    "    n = int(input())\n",
    "    a = list(map(int, input().split()))\n",
    "    for x in a:\n",
    "        if prime(x):\n",
    "            print(x, end = ' ')"
   ]
  },
  {
   "cell_type": "code",
   "execution_count": 6,
   "metadata": {},
   "outputs": [
    {
     "name": "stdout",
     "output_type": "stream",
     "text": [
      "1 7 "
     ]
    }
   ],
   "source": [
    "#tìm max, min\n",
    "if __name__ == \"__main__\":\n",
    "    n = int(input())\n",
    "    a = list(map(int, input().split()))\n",
    "    min_val, max_val = 10**18, -10**18\n",
    "    for x in a:\n",
    "        if x < min_val:\n",
    "            min_val = x\n",
    "        if x > max_val:\n",
    "            max_val = x\n",
    "    print(min_val, max_val, end = ' ')"
   ]
  },
  {
   "cell_type": "code",
   "execution_count": 7,
   "metadata": {},
   "outputs": [
    {
     "name": "stdout",
     "output_type": "stream",
     "text": [
      "1 7\n"
     ]
    }
   ],
   "source": [
    "if __name__ == \"__main__\":\n",
    "    n = int(input())\n",
    "    a = list(map(int, input().split()))\n",
    "    print(min(a), max(a))"
   ]
  },
  {
   "cell_type": "code",
   "execution_count": 8,
   "metadata": {},
   "outputs": [
    {
     "name": "stdout",
     "output_type": "stream",
     "text": [
      "3 8\n",
      "3 1\n",
      "3 2\n",
      "3 4\n",
      "8 1\n",
      "8 2\n",
      "8 4\n",
      "1 2\n",
      "1 4\n",
      "2 4\n",
      "7\n"
     ]
    }
   ],
   "source": [
    "#dạng 3 ktra các cặp phần tử trong list thỏa mãn điều kiện gì đó\n",
    "if __name__ == \"__main__\":\n",
    "    n = int(input())\n",
    "    a = list(map(int, input().split()))\n",
    "    dem = 0\n",
    "    for i in range(n):\n",
    "        for j in range(i+1, n):\n",
    "            print(a[i], a[j])\n",
    "            if gcd(a[i], a[j]) == 1:\n",
    "                dem += 1\n",
    "    print(dem)"
   ]
  },
  {
   "cell_type": "markdown",
   "metadata": {},
   "source": [
    "**mảng đánh dấu**"
   ]
  },
  {
   "cell_type": "code",
   "execution_count": 9,
   "metadata": {},
   "outputs": [
    {
     "name": "stdout",
     "output_type": "stream",
     "text": [
      "1 3 \n",
      "2 3 \n",
      "1 3 \n",
      "2 3 \n",
      "3 1 \n",
      "1 3 \n",
      "4 1 \n",
      "2 3 \n"
     ]
    }
   ],
   "source": [
    "#Giá trị khác nhau trong mảng : tìm số lượng phần tử khác nhau, liệt kê\n",
    "# Những bài toán liên quan tới tần suất\n",
    "#Cho mảng A[] có N phần tử, đếm xem mỗi phần tử trong mảng xuất hiện bao nhiêu lần\n",
    "a = [1,2,1,2,3,1,4,2]\n",
    "for x in a:\n",
    "    print(x, a.count(x), end = ' ')\n",
    "    print()"
   ]
  },
  {
   "cell_type": "code",
   "execution_count": 10,
   "metadata": {},
   "outputs": [
    {
     "name": "stdout",
     "output_type": "stream",
     "text": [
      "1 3\n",
      "2 3\n",
      "3 1\n",
      "4 1\n"
     ]
    }
   ],
   "source": [
    "if __name__ == \"__main__\":\n",
    "    a = [1,2,1,2,3,1,4,2]\n",
    "    cnt = [0]*10**9\n",
    "    for x in a:\n",
    "        cnt[x]+=1\n",
    "    l,r = min(a), max(a)\n",
    "    for i in range(l,r+1):\n",
    "        print(i, cnt[i])"
   ]
  },
  {
   "cell_type": "code",
   "execution_count": 12,
   "metadata": {},
   "outputs": [
    {
     "name": "stdout",
     "output_type": "stream",
     "text": [
      "4 2\n",
      "2 3\n",
      "1 2\n",
      "3 1\n"
     ]
    }
   ],
   "source": [
    "#in theo thứ tự xuất hiện\n",
    "if __name__ == \"__main__\":\n",
    "    a = [4,2,1,2,3,1,4,2]\n",
    "    cnt = [0] * 10000001\n",
    "    for x in a:\n",
    "        cnt[x] += 1\n",
    "    for x in a:\n",
    "        if cnt[x] != 0:\n",
    "            print(x, cnt[x])\n",
    "            cnt[x] = 0"
   ]
  },
  {
   "cell_type": "code",
   "execution_count": 18,
   "metadata": {},
   "outputs": [
    {
     "name": "stdout",
     "output_type": "stream",
     "text": [
      "1 2 3 4 5 \n",
      "5\n",
      "4 2 1 3 5 "
     ]
    }
   ],
   "source": [
    "#đánh dấu or liệt kê các giá trị khác nhau\n",
    "if __name__ == \"__main__\":\n",
    "    a = [4,2,1,2,3,1,4,2,5]\n",
    "    cnt = [0] * 10000001\n",
    "    #đánh dấu xuất hiện hay ko xuất hiện\n",
    "    for x in a:\n",
    "        cnt[x] = 1 # đánh dấu đã xuất hiện\n",
    "    l, r = min(a), max(a)\n",
    "    dem = 0\n",
    "    for i in range(l,r+1):\n",
    "        if cnt[i] != 0:\n",
    "            dem += 1\n",
    "            print(i, end = ' ')\n",
    "    print()\n",
    "    print(dem)\n",
    "    for x in a:\n",
    "        if cnt[x] != 0:\n",
    "            print(x, end = ' ')\n",
    "            cnt[x] = 0"
   ]
  },
  {
   "cell_type": "code",
   "execution_count": null,
   "metadata": {},
   "outputs": [],
   "source": []
  }
 ],
 "metadata": {
  "kernelspec": {
   "display_name": "Duong",
   "language": "python",
   "name": "python3"
  },
  "language_info": {
   "codemirror_mode": {
    "name": "ipython",
    "version": 3
   },
   "file_extension": ".py",
   "mimetype": "text/x-python",
   "name": "python",
   "nbconvert_exporter": "python",
   "pygments_lexer": "ipython3",
   "version": "3.13.0"
  }
 },
 "nbformat": 4,
 "nbformat_minor": 2
}
