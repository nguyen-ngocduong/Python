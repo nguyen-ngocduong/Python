{
 "cells": [
  {
   "cell_type": "markdown",
   "metadata": {},
   "source": [
    "### Sắp xếp trong python"
   ]
  },
  {
   "cell_type": "code",
   "execution_count": 9,
   "metadata": {},
   "outputs": [
    {
     "name": "stdout",
     "output_type": "stream",
     "text": [
      "[20, 70, 16, 34, 91, 47, 58, 85, 69]\n"
     ]
    }
   ],
   "source": [
    "#Hàm sort trong list: sắp xếp theo thứ tự từ điển tăng dần\n",
    "#Cú pháp: sort(key = ..., reverse = ...)\n",
    "from math import *\n",
    "def sum_digit(n):\n",
    "    tong = 0\n",
    "    while n != 0:\n",
    "        tong += n % 10\n",
    "        n //= 10\n",
    "    return tong\n",
    "a = [20, 91, 47,58,69,70,16,85,34]\n",
    "# a.sort(reverse=True)\n",
    "a.sort(key = sum_digit)\n",
    "print(a)"
   ]
  },
  {
   "cell_type": "code",
   "execution_count": 10,
   "metadata": {},
   "outputs": [
    {
     "name": "stdout",
     "output_type": "stream",
     "text": [
      "[2, 5, 7, 3, 9, 4, 6, 1, 8]\n"
     ]
    }
   ],
   "source": [
    "from math import isqrt\n",
    "\n",
    "# Hàm kiểm tra số nguyên tố\n",
    "def prime(n):\n",
    "    if n < 2:\n",
    "        return False\n",
    "    for i in range(2, isqrt(n) + 1):\n",
    "        if n % i == 0:\n",
    "            return False\n",
    "    return True\n",
    "\n",
    "a = [2, 9, 4, 5, 6, 7, 1, 8, 3]\n",
    "\n",
    "# Sắp xếp dựa trên việc số đó có phải là số nguyên tố hay không\n",
    "a.sort(key=lambda x: not prime(x))\n",
    "print(a)"
   ]
  },
  {
   "cell_type": "code",
   "execution_count": 12,
   "metadata": {},
   "outputs": [
    {
     "name": "stdout",
     "output_type": "stream",
     "text": [
      "{'name': 'Thieu Ngoc Tuan', 'Salary': 1500}\n",
      "{'name': 'Nguyen Ngoc Duong', 'Salary': 500}\n",
      "{'name': 'Nguyen Duc Anh', 'Salary': 400}\n",
      "{'name': 'Phung Duc Kien', 'Salary': 300}\n"
     ]
    }
   ],
   "source": [
    "#sort một list các dict\n",
    "a = [{'name' : 'Nguyen Ngoc Duong', 'Salary' : 500},\n",
    "     {'name' : 'Thieu Ngoc Tuan', 'Salary' : 1500},\n",
    "     {'name' : 'Nguyen Duc Anh', 'Salary' : 400},\n",
    "     {'name' : 'Phung Duc Kien', 'Salary' : 300}]\n",
    "a.sort(key = lambda x : x.get('Salary'), reverse=True)\n",
    "for x in a:\n",
    "    print(x)"
   ]
  },
  {
   "cell_type": "code",
   "execution_count": 15,
   "metadata": {},
   "outputs": [
    {
     "name": "stdout",
     "output_type": "stream",
     "text": [
      "[['Vu Hai Nam', 400], ['Nguyen Van Vinh', 350], ['Nguyen Van Duy', 300]]\n"
     ]
    }
   ],
   "source": [
    "a = [['Nguyen Van Vinh', 350], ['Nguyen Van Duy', 300], ['Vu Hai Nam', 400]]\n",
    "a.sort(key=lambda x : -x[1])\n",
    "print(a)"
   ]
  },
  {
   "cell_type": "code",
   "execution_count": null,
   "metadata": {},
   "outputs": [],
   "source": []
  }
 ],
 "metadata": {
  "kernelspec": {
   "display_name": "Duong",
   "language": "python",
   "name": "python3"
  },
  "language_info": {
   "codemirror_mode": {
    "name": "ipython",
    "version": 3
   },
   "file_extension": ".py",
   "mimetype": "text/x-python",
   "name": "python",
   "nbconvert_exporter": "python",
   "pygments_lexer": "ipython3",
   "version": "3.13.0"
  }
 },
 "nbformat": 4,
 "nbformat_minor": 2
}
