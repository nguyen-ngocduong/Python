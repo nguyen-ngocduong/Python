{
 "cells": [
  {
   "cell_type": "code",
   "execution_count": 1,
   "metadata": {},
   "outputs": [
    {
     "name": "stdout",
     "output_type": "stream",
     "text": [
      "OK\n"
     ]
    }
   ],
   "source": [
    "#Tư tưởng: tìm kiếm trong đoạn [l,r] => tính mid\n",
    "#1, a[ơm] == x => True\n",
    "#2, a[m] < x = > tìm bên phải l = m + 1\n",
    "#3, a[m] > x => timg bên trái r = m -1\n",
    "def binary_search(a,l,r,x):\n",
    "    while l <= r :\n",
    "        m = (l+r) // 2\n",
    "        if a[m] == x:\n",
    "            return True\n",
    "        elif a[m] < x:\n",
    "            l = m+1\n",
    "        else :\n",
    "            r = m -1\n",
    "    return False\n",
    "if __name__ == '__main__':\n",
    "    a = [1,1,2,3,4,5]\n",
    "    if binary_search(a,0, len(a)-1, 5):\n",
    "        print(\"OK\")\n",
    "    else:\n",
    "        print(\"NONE\")"
   ]
  },
  {
   "cell_type": "code",
   "execution_count": 3,
   "metadata": {},
   "outputs": [
    {
     "name": "stdout",
     "output_type": "stream",
     "text": [
      "2\n"
     ]
    }
   ],
   "source": [
    "#Biến thể của thuật toán binary search\n",
    "#1, tìm vị trí xuất hiện đầu tiên của phần tử có giá trị X trong mảng tăng dần\n",
    "def first_pos(a,l,r,x):\n",
    "    res = -1\n",
    "    while l <= r:\n",
    "        m = (l+r) // 2\n",
    "        if a[m] == x:\n",
    "            res = m\n",
    "            r = m -1\n",
    "        elif a[m] < x:\n",
    "            l = m + 1\n",
    "        else:\n",
    "            r = m - 1\n",
    "    return res\n",
    "if __name__ == '__main__':\n",
    "    a = [1,1,2,2,2,3,4,5]\n",
    "    print(first_pos(a, 0, len(a) - 1, 2))"
   ]
  },
  {
   "cell_type": "code",
   "execution_count": 4,
   "metadata": {},
   "outputs": [
    {
     "name": "stdout",
     "output_type": "stream",
     "text": [
      "4\n"
     ]
    }
   ],
   "source": [
    "#2, tìm vị trí xuất hiện cuối của phần tử có giá trị X trong mảng tăng dần\n",
    "def last_pos(a,l,r,x):\n",
    "    res = -1\n",
    "    while l <= r:\n",
    "        m = (l+r) // 2\n",
    "        if a[m] == x:\n",
    "            res = m\n",
    "            l = m + 1\n",
    "        elif a[m] < x:\n",
    "            l = m + 1\n",
    "        else :\n",
    "            r = m - 1\n",
    "    return res\n",
    "if __name__ == '__main__':\n",
    "    a = [1,1,2,2,2,3,4,5]\n",
    "    print(last_pos(a, 0, len(a) - 1, 2))"
   ]
  },
  {
   "cell_type": "code",
   "execution_count": 7,
   "metadata": {},
   "outputs": [
    {
     "name": "stdout",
     "output_type": "stream",
     "text": [
      "2\n",
      "5\n"
     ]
    }
   ],
   "source": [
    "#3, tìm vị trí xuất hiện đầu tiên của phần tử có giá trị lớn hơn hoặc bằng x\n",
    "def first_pos1(a,l,r,x):\n",
    "    res = -1\n",
    "    while l <= r:\n",
    "        m = (l+r) // 2\n",
    "        if a[m] >= x:\n",
    "            res = m\n",
    "            r = m -1\n",
    "        else:\n",
    "            l = m + 1\n",
    "    return res\n",
    "#4, Tìm vị trí xuất hiện đầu tiên của phần tử có giá trị lớn hơn x\n",
    "def first_pos2(a,l,r,x):\n",
    "    res = -1\n",
    "    while l <= r:\n",
    "        m = (l+r) // 2\n",
    "        if a[m] > x:\n",
    "            res = m\n",
    "            r = m -1\n",
    "        else:\n",
    "            l = m + 1\n",
    "    return res\n",
    "if __name__ == '__main__':\n",
    "    a = [1,1,2,2,2,3,4,5]\n",
    "    print(first_pos1(a, 0, len(a) - 1, 2))\n",
    "    print(first_pos2(a,0, len(a) - 1, 2))"
   ]
  },
  {
   "cell_type": "code",
   "execution_count": null,
   "metadata": {},
   "outputs": [],
   "source": []
  }
 ],
 "metadata": {
  "kernelspec": {
   "display_name": "Duong",
   "language": "python",
   "name": "python3"
  },
  "language_info": {
   "codemirror_mode": {
    "name": "ipython",
    "version": 3
   },
   "file_extension": ".py",
   "mimetype": "text/x-python",
   "name": "python",
   "nbconvert_exporter": "python",
   "pygments_lexer": "ipython3",
   "version": "3.13.0"
  }
 },
 "nbformat": 4,
 "nbformat_minor": 2
}
